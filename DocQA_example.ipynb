{
  "nbformat": 4,
  "nbformat_minor": 0,
  "metadata": {
    "colab": {
      "name": "DocQA.ipynb",
      "provenance": [],
      "collapsed_sections": [],
      "authorship_tag": "ABX9TyOjmKoKDzDTX8ORrJv8TSBo",
      "include_colab_link": true
    },
    "kernelspec": {
      "name": "python3",
      "display_name": "Python 3"
    },
    "language_info": {
      "name": "python"
    }
  },
  "cells": [
    {
      "cell_type": "markdown",
      "metadata": {
        "id": "view-in-github",
        "colab_type": "text"
      },
      "source": [
        "<a href=\"https://colab.research.google.com/github/amazingvince/docqa/blob/main/DocQA_example.ipynb\" target=\"_parent\"><img src=\"https://colab.research.google.com/assets/colab-badge.svg\" alt=\"Open In Colab\"/></a>"
      ]
    },
    {
      "cell_type": "code",
      "execution_count": null,
      "metadata": {
        "id": "yS9UNjHnAAS9"
      },
      "outputs": [],
      "source": [
        "!git clone https://github.com/impira/docqa.git\n",
        "!curl -sSL https://install.python-poetry.org | python3 -\n",
        "!sudo apt install tesseract-ocr\n",
        "!sudo apt-get install poppler-utils\n",
        "!cd docqa && /root/.local/bin/poetry install"
      ]
    },
    {
      "cell_type": "code",
      "source": [
        "!docqa scan \"who authored this paper?\" https://arxiv.org/pdf/2101.07597.pdf"
      ],
      "metadata": {
        "id": "bKRRY5u2DV52",
        "colab": {
          "base_uri": "https://localhost:8080/"
        },
        "outputId": "9dd2cc78-2c81-4679-cd51-5085fd7f104e"
      },
      "execution_count": 4,
      "outputs": [
        {
          "output_type": "stream",
          "name": "stdout",
          "text": [
            "2022-08-21 22:15:15,147 INFO: Loading https://arxiv.org/pdf/2101.07597.pdf\n",
            "2022-08-21 22:15:15,147 INFO: Done loading files. Loading pipeline...\n",
            "2022-08-21 22:15:17,927 INFO: Ready to start evaluating!\n",
            "https://arxiv.org/pdf/2101.07597.pdf who authored this paper?: Chengyi Wang\n"
          ]
        }
      ]
    },
    {
      "cell_type": "code",
      "source": [
        "from docqa import document, pipeline\n",
        "p = pipeline.get_pipeline()\n",
        "doc = document.load_document(\"https://arxiv.org/pdf/2101.07597.pdf\")\n",
        "for q in [\"Who authored this paper?\", \"What is the purpose of this paper?\"]:\n",
        "  print(q, p(question=q, **doc.context))"
      ],
      "metadata": {
        "colab": {
          "base_uri": "https://localhost:8080/"
        },
        "id": "AyYPaZyFcvUP",
        "outputId": "74ffdefc-4a51-4367-cca5-54aca521b0d5"
      },
      "execution_count": 5,
      "outputs": [
        {
          "output_type": "stream",
          "name": "stderr",
          "text": [
            "The tokenizer class you load from this checkpoint is not the same type as the class this function is called from. It may result in unexpected tokenization. \n",
            "The tokenizer class you load from this checkpoint is 'LayoutLMTokenizer'. \n",
            "The class this function is called from is 'RobertaTokenizerFast'.\n"
          ]
        },
        {
          "output_type": "stream",
          "name": "stdout",
          "text": [
            "Who authored this paper? {'score': 0.98605835, 'answer': 'Chengyi Wang', 'start': 199, 'end': 200}\n",
            "What is the purpose of this paper? {'score': 0.73095775, 'answer': 'collapse', 'start': 95, 'end': 95}\n"
          ]
        }
      ]
    }
  ]
}